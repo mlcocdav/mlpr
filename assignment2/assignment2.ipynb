{
 "cells": [
  {
   "cell_type": "code",
   "execution_count": 1,
   "metadata": {
    "collapsed": true,
    "pycharm": {
     "is_executing": false
    }
   },
   "outputs": [],
   "source": [
    "import numpy as np\n",
    "from ct_support_code import *\n",
    "import matplotlib.pyplot as plt\n",
    "\n",
    "data = np.load('ct_data.npz')\n",
    "X_train = data['X_train']; X_val = data['X_val']; X_test = data['X_test']\n",
    "y_train = data['y_train']; y_val = data['y_val']; y_test = data['y_test']"
   ]
  },
  {
   "cell_type": "code",
   "execution_count": 2,
   "outputs": [
    {
     "name": "stdout",
     "text": [
      "y_train mean:  -9.13868774539957e-15\ny_val mean with standard error: -0.2160085093241599 ± 0.012903383410668334\ny_train 5785 samples mean with standard error: -0.44247687859693674 ± 0.01192627246273395\n"
     ],
     "output_type": "stream"
    },
    {
     "data": {
      "text/plain": "\"\\nWe see that y_train mean with the error bar for\\nonly 5785 samples is far away from zero (y_train mean).\\nAs number of samples in y_train is much larger than number of samples in y_val,\\nwe can't make our predictions of y_val mean just based on y_train mean \\nwith the standard error bar...better explanation..\\n\""
     },
     "metadata": {},
     "output_type": "execute_result",
     "execution_count": 2
    }
   ],
   "source": [
    "# 1 a)\n",
    "y_train_mean = y_train.mean()\n",
    "print('y_train mean: ', y_train_mean)\n",
    "\n",
    "y_val_mean = y_val.mean()\n",
    "y_val_error = y_val.std()/np.sqrt(len(y_val))\n",
    "\n",
    "y_train_error = y_train[:5785].std()/np.sqrt(5785)\n",
    "print(f'y_val mean with standard error: {y_val_mean} ± {y_val_error}')\n",
    "print(f'y_train 5785 samples mean with standard error: {y_train[:5785].mean()} ± {y_train_error}')\n",
    "\n",
    "\"\"\"\n",
    "We see that y_train mean with the error bar for\n",
    "only 5785 samples is far away from zero (y_train mean).\n",
    "As number of samples in y_train is much larger than number of samples in y_val,\n",
    "we can't make our predictions of y_val mean just based on y_train mean \n",
    "with the standard error bar...better explanation..\n",
    "\"\"\""
   ],
   "metadata": {
    "collapsed": false,
    "pycharm": {
     "name": "#%%\n",
     "is_executing": false
    }
   }
  },
  {
   "cell_type": "code",
   "execution_count": 3,
   "outputs": [
    {
     "name": "stdout",
     "text": [
      "Indexes of constant columns: [59, 69, 179, 189, 351]\n",
      "Original indexes of duplicate columns [78, 79, 69, 179, 199, 188, 189, 351, 287, 359]\n"
     ],
     "output_type": "stream"
    }
   ],
   "source": [
    "# 1 b)\n",
    "\n",
    "remove_indexes = [i for i,col in enumerate(X_train.T) if np.all(col==col[0])]\n",
    "print('Indexes of constant columns:', remove_indexes)\n",
    "remove_indexes_2 = []\n",
    "for i, col1 in enumerate(X_train.T):\n",
    "    for j, col2 in enumerate(X_train.T[i+1:,:]):\n",
    "        if np.all(col1==col2):\n",
    "            remove_indexes_2.append(i+j+1)\n",
    "            break       \n",
    "print('Original indexes of duplicate columns', remove_indexes_2)\n",
    "remove_indexes = remove_indexes + remove_indexes_2\n",
    "X_train = np.delete(X_train, remove_indexes, axis=1)\n",
    "X_val = np.delete(X_val, remove_indexes, axis=1)\n",
    "X_test = np.delete(X_test, remove_indexes, axis=1)"
   ],
   "metadata": {
    "collapsed": false,
    "pycharm": {
     "name": "#%%\n",
     "is_executing": false
    }
   }
  },
  {
   "cell_type": "code",
   "execution_count": 5,
   "outputs": [
    {
     "name": "stdout",
     "text": [
      "Training RMSE (fit_linreg):  0.3567669814948786\nTraining RMSE (fit_linreg_gradopt):  0.35675561493545876\nValidation RMSE (fit_linreg):  0.42292954946321326\nValidation RMSE (fit_linreg_gradopt):  0.42305590683687927\n"
     ],
     "output_type": "stream"
    },
    {
     "data": {
      "text/plain": "'\\nValues close to each other, but not exactly the same\\nfit_linreg_gradopt is better on training\\nAdd explanation..numerical reasons..different method?\\nval rmse smaller..?\\n'"
     },
     "metadata": {},
     "output_type": "execute_result",
     "execution_count": 5
    }
   ],
   "source": [
    "# 2 \n",
    "def fit_linreg(X, yy, alpha):\n",
    "    K = X.shape[1]\n",
    "    N = X.shape[0]\n",
    "    X = np.column_stack((X,np.ones(N)))\n",
    "    X = np.row_stack((X,np.sqrt(alpha)*np.eye(K+1)))\n",
    "    y = np.concatenate((yy, np.zeros(K+1)))\n",
    "    w = np.linalg.lstsq(X,y,rcond=None)[0]\n",
    "    return w[:-1], w[-1]\n",
    "\n",
    "def rmse(ww, bb, XX, yy):\n",
    "    return np.sqrt(np.mean(((XX @ ww + bb) - yy)**2))\n",
    "\n",
    "alpha = 30\n",
    "train_w1, train_b1 = fit_linreg(X_train, y_train, alpha)\n",
    "train_w2, train_b2 = fit_linreg_gradopt(X_train, y_train, alpha)\n",
    "print('Training RMSE (fit_linreg): ', rmse(train_w1, train_b1, X_train, y_train))\n",
    "print('Training RMSE (fit_linreg_gradopt): ', rmse(train_w2, train_b2, X_train, y_train))\n",
    "print('Validation RMSE (fit_linreg): ', rmse(train_w1, train_b1, X_val, y_val))\n",
    "print('Validation RMSE (fit_linreg_gradopt): ', rmse(train_w2, train_b2, X_val, y_val))\n",
    "\n",
    "\"\"\"\n",
    "Values close to each other, but not exactly the same\n",
    "fit_linreg_gradopt is better on training\n",
    "Add explanation..numerical reasons..different method?\n",
    "val rmse smaller..?\n",
    "\"\"\""
   ],
   "metadata": {
    "collapsed": false,
    "pycharm": {
     "name": "#%%\n",
     "is_executing": false
    }
   }
  },
  {
   "cell_type": "code",
   "execution_count": 6,
   "outputs": [
    {
     "name": "stdout",
     "text": [
      "Training RMSE logreg transformation (fit_linreg_gradopt):  0.15441194427307056\nValidation RMSE logreg transformation (fit_linreg_gradopt):  0.2542485765839827\n"
     ],
     "output_type": "stream"
    },
    {
     "data": {
      "text/plain": "' Lower RMSE than normal linear regression '"
     },
     "metadata": {},
     "output_type": "execute_result",
     "execution_count": 6
    }
   ],
   "source": [
    "# 3\n",
    "K = 20 # number of thresholded classification problems to fit\n",
    "mx = np.max(y_train); mn = np.min(y_train); hh = (mx-mn)/(K+1)\n",
    "thresholds = np.linspace(mn+hh, mx-hh, num=K, endpoint=True)\n",
    "\n",
    "\n",
    "def fit_logreg_gradopt(X, yy, alpha):\n",
    "    D = X.shape[1]\n",
    "    args = (X, yy, alpha)\n",
    "    init = (np.zeros(D), np.array(0))\n",
    "    ww, bb = minimize_list(logreg_cost, init, args)\n",
    "    return ww, bb\n",
    "\n",
    "def logreg_forward(X, ww, bb):\n",
    "    aa = (X @ ww) + bb\n",
    "    return 1 / (1 + np.exp(-aa))\n",
    "\n",
    "N = X_train.shape[0]\n",
    "D = X_train.shape[1]\n",
    "WW = np.empty((D, K))\n",
    "BB = np.empty(K)\n",
    "LL = np.empty((N, K))\n",
    "for kk in range(K):\n",
    "    labels = y_train > thresholds[kk]\n",
    "    LL[:, kk] = labels\n",
    "    WW[:,kk], BB[kk] = fit_logreg_gradopt(X_train, labels, alpha)\n",
    "\n",
    "\n",
    "X_train_logreg = logreg_forward(X_train, WW, BB) \n",
    "X_val_logreg = logreg_forward(X_val, WW, BB) \n",
    "\n",
    "train_w_lr, train_b_lr = fit_linreg_gradopt(X_train_logreg, y_train, alpha)\n",
    "print('Training RMSE logreg transformation (fit_linreg_gradopt): ', \n",
    "      rmse(train_w_lr, train_b_lr, X_train_logreg, y_train))\n",
    "print('Validation RMSE logreg transformation (fit_linreg_gradopt): ', \n",
    "      rmse(train_w_lr, train_b_lr, X_val_logreg, y_val))\n",
    "\"\"\" Lower RMSE than normal linear regression \"\"\""
   ],
   "metadata": {
    "collapsed": false,
    "pycharm": {
     "name": "#%%\n",
     "is_executing": false
    }
   }
  },
  {
   "cell_type": "code",
   "execution_count": 7,
   "outputs": [
    {
     "name": "stdout",
     "text": [
      "NN train RMSE with random initialization parameters:  0.14112490248734788\nNN train RMSE with q3 initialization parameters:  0.139174655128703\nNN val RMSE with random initialization parameters:  0.2799943120555435\nNN val RMSE with q3 initialization parameters:  0.27061551181673776\n"
     ],
     "output_type": "stream"
    }
   ],
   "source": [
    "# 4\n",
    "def fit_nn_gradopt(X, yy, alpha, K=20, init=None):\n",
    "    D = X.shape[1]\n",
    "    args = (X, yy, alpha)\n",
    "    if init==None:\n",
    "        init = (0.1*np.random.normal(0, 1/np.sqrt(K), size=K), np.array(0), \n",
    "                0.1*np.random.normal(0, 1/np.sqrt(D), size=(K, D)), np.zeros(K))\n",
    "    ww, bb, V, bk = minimize_list(nn_cost, init, args)\n",
    "    return ww, bb, V, bk\n",
    "\n",
    "def nn_rmse(params, XX, yy):\n",
    "    ww, bb, V, bk = params\n",
    "    \n",
    "    A = np.dot(XX, V.T) + bk[None,:] # N,K\n",
    "    P = 1 / (1 + np.exp(-A)) # N,K\n",
    "    F = np.dot(P, ww) + bb # N,\n",
    "    E =  np.sqrt(np.mean((F - yy)**2))\n",
    "    return E\n",
    "\n",
    "nn_rand_params = fit_nn_gradopt(X_train, y_train, 30)\n",
    "q3_params = (train_w_lr, train_b_lr, WW.T, BB)\n",
    "nn_q3_params = fit_nn_gradopt(X_train, y_train, 30, init=q3_params)\n",
    "print(\"NN train RMSE with random initialization parameters: \", nn_rmse(nn_rand_params, X_train, y_train))\n",
    "print(\"NN train RMSE with q3 initialization parameters: \", nn_rmse(nn_q3_params, X_train, y_train))\n",
    "print(\"NN val RMSE with random initialization parameters: \", nn_rmse(nn_rand_params, X_val, y_val))\n",
    "print(\"NN val RMSE with q3 initialization parameters: \", nn_rmse(nn_q3_params, X_val, y_val))"
   ],
   "metadata": {
    "collapsed": false,
    "pycharm": {
     "name": "#%%\n",
     "is_executing": false
    }
   }
  },
  {
   "cell_type": "code",
   "execution_count": 16,
   "outputs": [
    {
     "data": {
      "text/plain": "<Figure size 432x288 with 1 Axes>",
      "image/png": "[encoded data removed]"
     },
     "metadata": {
      "needs_background": "light"
     },
     "output_type": "display_data"
    },
    {
     "data": {
      "text/plain": "<Figure size 432x288 with 1 Axes>",
      "image/png": "[encoded data removed]"
     },
     "metadata": {
      "needs_background": "light"
     },
     "output_type": "display_data"
    },
    {
     "data": {
      "text/plain": "<Figure size 432x288 with 1 Axes>",
      "image/png": "[encoded data removed]"
     },
     "metadata": {
      "needs_background": "light"
     },
     "output_type": "display_data"
    },
    {
     "data": {
      "text/plain": "<Figure size 432x288 with 1 Axes>",
      "image/png": "[encoded data removed]"
     },
     "metadata": {
      "needs_background": "light"
     },
     "output_type": "display_data"
    },
    {
     "data": {
      "text/plain": "<Figure size 432x288 with 1 Axes>",
      "image/png": "[encoded data removed]"
     },
     "metadata": {
      "needs_background": "light"
     },
     "output_type": "display_data"
    },
    {
     "name": "stdout",
     "text": [
      "Best alpha:  13.68\nVal RMSE:  0.2585916478634066\nTest RMSE:  0.2946914803931076\n"
     ],
     "output_type": "stream"
    }
   ],
   "source": [
    "# 5\n",
    "\n",
    "def train_nn_reg(X_train, y_train, X_val, y_val, alpha):\n",
    "    params = fit_nn_gradopt(X_train, y_train, alpha)\n",
    "    return nn_rmse(params, X_val, y_val)\n",
    "\n",
    "def prob_imp(mu, cov, yy, alphas, alpha):\n",
    "    a_idx = np.where(alphas==alpha)[0][0]\n",
    "    pi = norm.cdf((mu[a_idx]-np.max(yy))/np.sqrt(cov[a_idx,a_idx]))\n",
    "    #pi = (mu[a_idx] - np.max(yy)) / np.sqrt(cov[a_idx, a_idx])\n",
    "    return pi\n",
    "\n",
    "alphas = np.arange(0, 50, 0.02)\n",
    "idx = np.round(len(alphas)*np.array([0.25,0.5,0.75])).astype(int)\n",
    "y_train_gp = np.array([])\n",
    "train_alphas = alphas[idx]\n",
    "for alpha in train_alphas:\n",
    "    y_train_gp = np.append(y_train_gp, -np.log(train_nn_reg(X_train, y_train, X_val, y_val, alpha)))\n",
    "nn_rand_params = fit_nn_gradopt(X_train, y_train, 30)\n",
    "baseline = np.log(nn_rmse(nn_rand_params, X_val, y_val))\n",
    "y_train_gp = baseline + y_train_gp\n",
    "test_alphas = np.delete(alphas, idx)\n",
    "\n",
    "for i in range(5):\n",
    "    mu, cov = gp_post_par(test_alphas, train_alphas, y_train_gp)\n",
    "\n",
    "    plt.plot(test_alphas, mu, '-k', linewidth=2)\n",
    "    std = np.sqrt(np.diag(cov))\n",
    "    plt.plot(test_alphas, mu + 2 * std, '--k', linewidth=2)\n",
    "    plt.plot(test_alphas, mu - 2 * std, '--k', linewidth=2)\n",
    "    plt.show()\n",
    "\n",
    "    best_alpha = test_alphas[0]\n",
    "    best_pi = - 1e100\n",
    "    for alpha in test_alphas:\n",
    "        pi = prob_imp(mu, cov, y_train_gp, test_alphas, alpha)\n",
    "        if pi > best_pi:\n",
    "            best_pi = pi\n",
    "            best_alpha = alpha\n",
    "    #print(best_alpha, best_pi)\n",
    "    train_alphas = np.append(train_alphas, best_alpha)\n",
    "    test_alphas = np.delete(test_alphas, np.where(test_alphas==best_alpha))\n",
    "    #y_train_gp = np.append(y_train_gp, - np.log(train_nn_reg(X_train, y_train, X_val, y_val, best_alpha)))\n",
    "    y_train_gp = np.append(y_train_gp, baseline -np.log(train_nn_reg(X_train, y_train, X_val, y_val, best_alpha)))\n",
    "best_alpha = train_alphas[np.argmax(y_train_gp)]\n",
    "\n",
    "val_rmse = train_nn_reg(X_train, y_train, X_val, y_val, best_alpha)\n",
    "test_rmse = train_nn_reg(X_train, y_train, X_test, y_test, best_alpha)\n",
    "#print(train_alphas)\n",
    "print('Best alpha: ', best_alpha)\n",
    "print('Val RMSE: ', val_rmse)\n",
    "print('Test RMSE: ', test_rmse)"
   ],
   "metadata": {
    "collapsed": false,
    "pycharm": {
     "name": "#%%\n",
     "is_executing": false
    }
   }
  },
  {
   "cell_type": "code",
   "execution_count": null,
   "outputs": [],
   "source": [
    "from ct_support_code import *\n",
    "def fit_logreg_gradopt(X, yy, alpha):\n",
    "    D = X.shape[1]\n",
    "    args = (X, yy, alpha)\n",
    "    init = (np.zeros(D), np.array(0))\n",
    "    ww, bb = minimize_list(logreg_cost, init, args)\n",
    "    return ww, bb\n",
    "    \n",
    "def logreg_forward(X, ww, bb):\n",
    "    aa = (X @ ww) + bb\n",
    "    return 1 / (1 + np.exp(-aa))\n",
    "\n",
    "def train_nn_reg(X_train, y_train, X_val, y_val, K, alpha=6.44):\n",
    "    mx = np.max(y_train); mn = np.min(y_train); hh = (mx-mn)/(K+1)\n",
    "    thresholds = np.linspace(mn+hh, mx-hh, num=K, endpoint=True)\n",
    "    \n",
    "    N = X_train.shape[0]\n",
    "    D = X_train.shape[1]\n",
    "    WW = np.empty((D, K))\n",
    "    BB = np.empty(K)\n",
    "    for kk in range(K):\n",
    "        labels = y_train > thresholds[kk]\n",
    "        WW[:,kk], BB[kk] = fit_logreg_gradopt(X_train, labels, alpha)\n",
    "    \n",
    "    X_train_logreg = logreg_forward(X_train, WW, BB) \n",
    "    X_val_logreg = logreg_forward(X_val, WW, BB) \n",
    "    \n",
    "    train_w_lr, train_b_lr = fit_linreg_gradopt(X_train_logreg, y_train, alpha)\n",
    "    return  rmse(train_w_lr, train_b_lr, X_val_logreg, y_val)\n",
    "\n",
    "def prob_imp(mu, cov, yy, alphas, alpha):\n",
    "    a_idx = np.where(alphas==alpha)[0][0]\n",
    "    pi = norm.cdf((mu[a_idx]-np.max(yy))/np.sqrt(cov[a_idx,a_idx]))\n",
    "    #pi = (mu[a_idx] - np.max(yy)) / np.sqrt(cov[a_idx, a_idx])\n",
    "    return pi\n",
    "\n",
    "alphas = np.arange(10, 40, 1)\n",
    "idx = np.round(len(alphas)*np.array([0.25,0.5,0.75])).astype(int)\n",
    "y_train_gp = np.array([])\n",
    "train_alphas = alphas[idx]\n",
    "for alpha in train_alphas:\n",
    "    y_train_gp = np.append(y_train_gp, -np.log(train_nn_reg(X_train, y_train, X_val, y_val, alpha)))\n",
    "nn_rand_params = fit_nn_gradopt(X_train, y_train, 30)\n",
    "baseline = np.log(nn_rmse(nn_rand_params, X_val, y_val))\n",
    "y_train_gp = baseline + y_train_gp\n",
    "test_alphas = np.delete(alphas, idx)\n",
    "\n",
    "for i in range(5):\n",
    "    mu, cov = gp_post_par(test_alphas, train_alphas, y_train_gp)\n",
    "\n",
    "    plt.plot(test_alphas, mu, '-k', linewidth=2)\n",
    "    std = np.sqrt(np.diag(cov))\n",
    "    plt.plot(test_alphas, mu + 2 * std, '--k', linewidth=2)\n",
    "    plt.plot(test_alphas, mu - 2 * std, '--k', linewidth=2)\n",
    "    plt.show()\n",
    "\n",
    "    best_alpha = test_alphas[0]\n",
    "    best_pi = - 1e100\n",
    "    for alpha in test_alphas:\n",
    "        pi = prob_imp(mu, cov, y_train_gp, test_alphas, alpha)\n",
    "        if pi > best_pi:\n",
    "            best_pi = pi\n",
    "            best_alpha = alpha\n",
    "    print(best_alpha, best_pi)\n",
    "    train_alphas = np.append(train_alphas, best_alpha)\n",
    "    test_alphas = np.delete(test_alphas, np.where(test_alphas==best_alpha))\n",
    "    #y_train_gp = np.append(y_train_gp, - np.log(train_nn_reg(X_train, y_train, X_val, y_val, best_alpha)))\n",
    "    y_train_gp = np.append(y_train_gp, baseline -np.log(train_nn_reg(X_train, y_train, X_val, y_val, best_alpha)))\n",
    "best_alpha = train_alphas[np.argmax(y_train_gp)]\n",
    "\n",
    "val_rmse = train_nn_reg(X_train, y_train, X_val, y_val, best_alpha)\n",
    "test_rmse = train_nn_reg(X_train, y_train, X_test, y_test, best_alpha)\n",
    "#print(train_alphas)\n",
    "print('Best alpha: ', best_alpha)\n",
    "print('Val RMSE: ', val_rmse)\n",
    "print('Test RMSE: ', test_rmse)"
   ],
   "metadata": {
    "collapsed": false,
    "pycharm": {
     "name": "#%%\n",
     "is_executing": true
    }
   }
  },
  {
   "cell_type": "code",
   "execution_count": 11,
   "outputs": [
    {
     "name": "stdout",
     "text": [
      "[ 6 19]\n",
      "[12 19]\n",
      "[19 19]\n",
      "[ 6 23]\n",
      "[12 23]\n",
      "[19 23]\n",
      "[ 6 26]\n",
      "[12 26]\n",
      "[19 26]\n",
      "[5, 22] 0.0012131742429596938\n",
      "[4, 22] 0.0009673799659874539\n",
      "[3, 22] 2.4889458944502207e-06\n",
      "[4, 24] 4.6365326901313245e-07\n",
      "[3, 24] 5.347362125564258e-06\n",
      "[4, 21] 1.365182483075019e-06\n",
      "Best alpha:  4\nBest K:  22\nVal RMSE:  0.24858365900768228\nTest RMSE:  0.2668537981529219\n"
     ],
     "output_type": "stream"
    }
   ],
   "source": [
    "import copy\n",
    "#6\n",
    "\n",
    "\n",
    "def gp_post_par(X_rest, X_obs, yy, sigma_y=0.01, ell=5.0, sigma_f=0.01):\n",
    "    \"\"\"GP_POST_PAR means and covariances of a posterior Gaussian process\n",
    "\n",
    "         rest_cond_mu, rest_cond_cov = gp_post_par(X_rest, X_obs, yy)\n",
    "         rest_cond_mu, rest_cond_cov = gp_post_par(X_rest, X_obs, yy, sigma_y, ell, sigma_f)\n",
    "\n",
    "     Calculate the means and covariances at all test locations of the posterior Gaussian\n",
    "     process conditioned on the observations yy at observed locations X_obs.\n",
    "\n",
    "     Inputs:\n",
    "                 X_rest GP test locations\n",
    "                  X_obs locations of observations\n",
    "                     yy observed values\n",
    "                sigma_y observation noise standard deviation\n",
    "                    ell kernel function length scale\n",
    "                sigma_f kernel function standard deviation\n",
    "\n",
    "     Outputs:\n",
    "           rest_cond_mu mean at each location in X_rest\n",
    "          rest_cond_cov covariance matrix between function values at all test locations\n",
    "    \"\"\"\n",
    "    #X_rest = X_rest[:, None]\n",
    "    #X_obs = X_obs[:, None]\n",
    "    K_rest = gauss_kernel_fn(X_rest, X_rest, ell, sigma_f)\n",
    "    K_rest_obs = gauss_kernel_fn(X_rest, X_obs, ell, sigma_f)\n",
    "    K_obs = gauss_kernel_fn(X_obs, X_obs, ell, sigma_f)\n",
    "    M = K_obs + sigma_y**2 * np.eye(yy.size)\n",
    "    M_cho, M_low = cho_factor(M)\n",
    "    rest_cond_mu = np.dot(K_rest_obs, cho_solve((M_cho, M_low), yy))\n",
    "    rest_cond_cov = K_rest - np.dot(K_rest_obs, cho_solve((M_cho, M_low), K_rest_obs.T))\n",
    "\n",
    "    return rest_cond_mu, rest_cond_cov\n",
    "\n",
    "def train_nn_reg(X_train, y_train, X_val, y_val, alpha, negval, init):\n",
    "    X_train = copy.deepcopy(X_train)\n",
    "    #X_train[X_train==-0.25] = negval\n",
    "    params = fit_nn_gradopt(X_train, y_train, alpha, negval, init=init)\n",
    "    return nn_rmse(params, X_val, y_val)\n",
    "\n",
    "def prob_imp2(mu, cov, yy, i):\n",
    "#    a_idx = np.where(alphas==alpha)[0][0]\n",
    "#    n_idx = np.where(negvals==negval)[0][0]\n",
    "#    final_idx = a_idx*len(negvals) + n_idx\n",
    "    \n",
    "    pi = norm.cdf((mu[i]-np.max(yy))/np.sqrt(cov[i,i]))\n",
    "    #pi = (mu[i]-np.max(yy))/np.sqrt(cov[i,i])\n",
    "    #pi = (mu[a_idx] - np.max(yy)) / np.sqrt(cov[a_idx, a_idx])\n",
    "    return pi\n",
    "\n",
    "#alphas = np.arange(0, 50, 0.02)\n",
    "alphas = np.arange(0, 25, 1)\n",
    "negvals = np.arange(15, 30, 1)\n",
    "idx_alpha = np.round(len(alphas)*np.array([0.25,0.5,0.75])).astype(int)\n",
    "idx_negval = np.round(len(negvals)*np.array([0.25,0.5,0.75])).astype(int)\n",
    "#idx_alpha = np.round(len(alphas)*np.array([0.5])).astype(int)\n",
    "#idx_negval = np.round(len(negvals)*np.array([0.5])).astype(int)\n",
    "y_train_gp = np.array([])\n",
    "train_alphas = alphas[idx_alpha]\n",
    "train_negval = negvals[idx_negval]\n",
    "x,y = np.meshgrid(train_alphas, train_negval)\n",
    "X_obs = np.array([x.flatten(), y.flatten()]).T\n",
    "\n",
    "for p in X_obs: #alpha in train_alphas:\n",
    "    #for negval in train_negval:\n",
    "    alpha = p[0]\n",
    "    negval = p[1]\n",
    "    print(p)\n",
    "    y_train_gp = np.append(y_train_gp, -np.log(train_nn_reg(X_train, y_train, X_val, y_val, alpha, negval, q3_params)))\n",
    "nn_rand_params = fit_nn_gradopt(X_train, y_train, 30)\n",
    "baseline = np.log(nn_rmse(nn_rand_params, X_val, y_val))\n",
    "y_train_gp = baseline + y_train_gp\n",
    "test_alphas = np.delete(alphas, idx_alpha)\n",
    "test_negvals = np.delete(negvals, idx_negval)\n",
    "\n",
    "\n",
    "x,y = np.meshgrid(test_alphas, test_negvals)\n",
    "X_rest = np.array([x.flatten(), y.flatten()]).T\n",
    "for i in range(6):\n",
    "    mu, cov = gp_post_par(X_rest, X_obs, y_train_gp)\n",
    "\n",
    "    # plt.plot(test_alphas, mu, '-k', linewidth=2)\n",
    "    # std = np.sqrt(np.diag(cov))\n",
    "    # plt.plot(test_alphas, mu + 2 * std, '--k', linewidth=2)\n",
    "    # plt.plot(test_alphas, mu - 2 * std, '--k', linewidth=2)\n",
    "    # plt.show()\n",
    "\n",
    "    best_par = (test_alphas[0], test_negvals[0])\n",
    "    best_pi = - 1e100\n",
    "    for i, p in enumerate(X_rest):\n",
    "        alpha = p[0]\n",
    "        negval =  p[1]\n",
    "        pi = prob_imp2(mu, cov, y_train_gp, i)\n",
    "        if pi > best_pi:\n",
    "            best_pi = pi\n",
    "            best_par = [alpha, negval]\n",
    "    print(best_par, best_pi)\n",
    "    X_obs = np.vstack((X_obs, best_par))\n",
    "    #train_alphas = np.append(train_alphas, best_alpha)\n",
    "    X_rest = np.delete(X_rest, np.all(X_rest==best_par, axis=1).argmax(), axis=0)\n",
    "    #test_alphas = np.delete(test_alphas, np.where(test_alphas==best_par[0]))\n",
    "    #y_train_gp = np.append(y_train_gp, - np.log(train_nn_reg(X_train, y_train, X_val, y_val, best_alpha)))\n",
    "    y_train_gp = np.append(y_train_gp, baseline -np.log(train_nn_reg(X_train, y_train, X_val, y_val, best_par[0], best_par[1], q3_params)))\n",
    "\n",
    "best_par = X_obs[np.argmax(y_train_gp)]\n",
    "best_alpha = best_par[0]\n",
    "best_negval = best_par[1]\n",
    "val_rmse = train_nn_reg(X_train, y_train, X_val, y_val, best_alpha, best_negval, q3_params)\n",
    "test_rmse = train_nn_reg(X_train, y_train, X_test, y_test, best_alpha, best_negval, q3_params)\n",
    "#print(train_alphas)\n",
    "print('Best alpha: ', best_alpha)\n",
    "print('Best K: ', best_negval)\n",
    "print('Val RMSE: ', val_rmse)\n",
    "print('Test RMSE: ', test_rmse)\n",
    "# Best alpha:  4\n",
    "#Best K:  22\n",
    "#Val RMSE:  0.24858365900768228\n",
    "#Test RMSE:  0.2668537981529219"
   ],
   "metadata": {
    "collapsed": false,
    "pycharm": {
     "name": "#%%\n",
     "is_executing": false
    }
   }
  },
  {
   "cell_type": "code",
   "execution_count": 23,
   "outputs": [
    {
     "name": "stdout",
     "text": [
      "Best alpha:  0.0\nBest negval:  -0.2\nVal RMSE:  0.239602139061342\nTest RMSE:  0.2986217317937517\n"
     ],
     "output_type": "stream"
    }
   ],
   "source": [
    "val_rmse = train_nn_reg(X_train, y_train, X_val, y_val, 6.44, -0.2)\n",
    "test_rmse = train_nn_reg(X_train, y_train, X_test, y_test, 6.44, -0.2)\n",
    "#print(train_alphas)\n",
    "print('Best alpha: ', best_alpha)\n",
    "print('Best negval: ', best_negval)\n",
    "print('Val RMSE: ', val_rmse)\n",
    "print('Test RMSE: ', test_rmse)"
   ],
   "metadata": {
    "collapsed": false,
    "pycharm": {
     "name": "#%%\n",
     "is_executing": false
    }
   }
  },
  {
   "cell_type": "code",
   "execution_count": null,
   "outputs": [],
   "source": [
    "#X_train_avg = np.array([np.mean(X_train[:,i:i+2], axis=1) for i in range(X_train.shape[1]-2)]).T\n",
    "X_train_avg = X_train.copy()\n",
    "X_train_avg[X_train_avg==-0.25] = - 0.7\n",
    "train_w1, train_b1 = fit_linreg_gradopt(X_train, y_train, alpha)\n",
    "print('Training RMSE (fit_linreg avg): ', rmse(train_w1, train_b1, X_train, y_train))\n",
    "train_w1, train_b1 = fit_linreg_gradopt(X_train_avg, y_train, alpha)\n",
    "print('Training RMSE (fit_linreg avg): ', rmse(train_w1, train_b1, X_train_avg, y_train))"
   ],
   "metadata": {
    "collapsed": false,
    "pycharm": {
     "name": "#%%\n"
    }
   }
  },
  {
   "cell_type": "code",
   "execution_count": null,
   "outputs": [],
   "source": [
    "# preprocessing - do something about zeros, normalize to mean 0?, -0.25 values - gaussian processes\n",
    "# convolution, it matters if features are close to each other\n",
    "def nn2_cost(params, X, yy=None, alpha=None):\n",
    "    \"\"\"NN_COST simple neural network cost function and gradients, or predictions\n",
    "\n",
    "           E, params_bar = nn_cost([ww, bb, V, bk], X, yy, alpha)\n",
    "                    pred = nn_cost([ww, bb, V, bk], X)\n",
    "\n",
    "     Cost function E can be minimized with minimize_list\n",
    "\n",
    "     Inputs:\n",
    "             params (ww, bb, V, bk), where:\n",
    "                    --------------------------------\n",
    "                        ww K,  hidden-output weights\n",
    "                        bb     scalar output bias\n",
    "                         V K,D hidden-input weights\n",
    "                        bk K,  hidden biases\n",
    "                    --------------------------------\n",
    "                  X N,D input design matrix\n",
    "                 yy N,  regression targets\n",
    "              alpha     scalar regularization for weights\n",
    "\n",
    "     Outputs:\n",
    "                     E  sum of squares error\n",
    "            params_bar  gradients wrt params, same format as params\n",
    "     OR\n",
    "               pred N,  predictions if only params and X are given as inputs\n",
    "    \"\"\"\n",
    "    # Unpack parameters from list\n",
    "    ww, bb, V, bk, V2 ,b2 = params\n",
    "\n",
    "    # Forwards computation of cost\n",
    "    A = np.dot(X, V.T) + bk[None,:] # N,K\n",
    "    P = 1 / (1 + np.exp(-A)) # N,K\n",
    "    B = np.dot(P, V2.T) + b2[None,:] # \n",
    "    P2 = 1 / (1 + np.exp(-B)) # N,K\n",
    "    F = np.dot(P2, ww) + bb # N,\n",
    "    if yy is None:\n",
    "        # user wants prediction rather than training signal:\n",
    "        return F\n",
    "    res = F - yy # N,\n",
    "    E = np.dot(res, res) + alpha*(np.sum(V*V) + np.dot(ww,ww)) # 1x1\n",
    "\n",
    "    return E\n",
    "\n",
    "\n",
    "def fit_nn2_gradopt(X, yy, alpha, K=64, H = 32, init=None):\n",
    "    D = X.shape[1]\n",
    "    args = (X, yy, alpha)\n",
    "    if init==None:\n",
    "        init = (np.random.randn(H), np.array(0), np.random.randn(K, D), np.random.randn(K),\n",
    "                np.random.randn(H,K), np.random.randn(H))\n",
    "    ww, bb, V, bk, V2, b2 = minimize_list(nn2_cost, init, args)\n",
    "    return ww, bb, V, bk, V2, b2\n",
    "\n",
    "def nn2_rmse(params, XX, yy):\n",
    "    ww, bb, V, bk, V2, b2 = params\n",
    "    \n",
    "    A = np.dot(XX, V.T) + bk[None,:] # N,H\n",
    "    P = 1 / (1 + np.exp(-A)) # N,H\n",
    "    B = np.dot(P, V2.T) + b2[None,:] # \n",
    "    P2 = 1 / (1 + np.exp(-B)) # N,K\n",
    "    F = np.dot(P2, ww) + bb # N,\n",
    "    E =  np.sqrt(np.mean((F - yy)**2))\n",
    "    return E\n",
    "K =64\n",
    "H = 32\n",
    "# params = (np.random.randn(H), np.array(0), np.random.randn(K, D), np.random.randn(K),\n",
    "#                 np.random.randn(H,K), np.random.randn(H))\n",
    "# print(nn2_rmse(params,X_val, y_val))\n",
    "nn_rand_params = fit_nn2_gradopt(X_train, y_train, 30)\n",
    "\n",
    "#q3_params = (train_w_lr, train_b_lr, WW.T, BB)\n",
    "#nn_q3_params = fit_nn2gradopt(X_train, y_train, 30, init=q3_params)\n",
    "#print(\"NN cost with random initialization parameters: \", nn_cost(nn_rand_params, X_train, yy=y_train, alpha=30)[0])\n",
    "#print(\"NN cost with q3 initialization parameters: \", nn_cost(nn_q3_params, X_train, yy=y_train, alpha=30)[0])\n",
    "print(\"NN train RMSE with random initialization parameters: \", nn2_rmse(nn_rand_params, X_train, y_train))\n",
    "print(\"NN val RMSE with random initialization parameters: \", nn2_rmse(nn_rand_params, X_val, y_val))\n",
    "#print(\"NN train RMSE with q3 initialization parameters: \", nn2_rmse(nn_q3_params, X_train, y_train))\n",
    "#print(\"NN val RMSE with q3 initialization parameters: \", nn2_rmse(nn_q3_params, X_val, y_val))\n"
   ],
   "metadata": {
    "collapsed": false,
    "pycharm": {
     "name": "#%%\n"
    }
   }
  },
  {
   "cell_type": "code",
   "execution_count": 14,
   "outputs": [
    {
     "data": {
      "text/plain": "array([0., 0., 0., ..., 0., 0., 0.])"
     },
     "metadata": {},
     "output_type": "execute_result",
     "execution_count": 14
    }
   ],
   "source": [
    "X_train[X_train==0].size"
   ],
   "metadata": {
    "collapsed": false,
    "pycharm": {
     "name": "#%%\n",
     "is_executing": false
    }
   }
  },
  {
   "cell_type": "code",
   "execution_count": 15,
   "outputs": [
    {
     "data": {
      "text/plain": "0.1358250858712729"
     },
     "metadata": {},
     "output_type": "execute_result",
     "execution_count": 15
    }
   ],
   "source": [
    "X_train[X_train==-0.25].size/X_train.size\n"
   ],
   "metadata": {
    "collapsed": false,
    "pycharm": {
     "name": "#%%\n",
     "is_executing": false
    }
   }
  },
  {
   "cell_type": "code",
   "execution_count": 40,
   "outputs": [
    {
     "data": {
      "text/plain": "0.10572604430315634"
     },
     "metadata": {},
     "output_type": "execute_result",
     "execution_count": 40
    }
   ],
   "source": [
    "X_train.mean()\n"
   ],
   "metadata": {
    "collapsed": false,
    "pycharm": {
     "name": "#%%\n",
     "is_executing": false
    }
   }
  },
  {
   "cell_type": "code",
   "execution_count": 43,
   "outputs": [
    {
     "data": {
      "text/plain": "-0.25"
     },
     "metadata": {},
     "output_type": "execute_result",
     "execution_count": 43
    }
   ],
   "source": [
    "X_train[X_train<-0].mean()\n"
   ],
   "metadata": {
    "collapsed": false,
    "pycharm": {
     "name": "#%%\n",
     "is_executing": false
    }
   }
  },
  {
   "cell_type": "code",
   "execution_count": null,
   "outputs": [],
   "source": [
    "\n"
   ],
   "metadata": {
    "collapsed": false,
    "pycharm": {
     "name": "#%%\n"
    }
   }
  }
 ],
 "metadata": {
  "kernelspec": {
   "display_name": "Python 3",
   "language": "python",
   "name": "python3"
  },
  "language_info": {
   "codemirror_mode": {
    "name": "ipython",
    "version": 2
   },
   "file_extension": ".py",
   "mimetype": "text/x-python",
   "name": "python",
   "nbconvert_exporter": "python",
   "pygments_lexer": "ipython2",
   "version": "2.7.6"
  },
  "pycharm": {
   "stem_cell": {
    "cell_type": "raw",
    "source": [],
    "metadata": {
     "collapsed": false
    }
   }
  }
 },
 "nbformat": 4,
 "nbformat_minor": 0
}