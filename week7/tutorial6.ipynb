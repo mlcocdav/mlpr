{
 "cells": [
  {
   "cell_type": "code",
   "execution_count": 3,
   "metadata": {
    "collapsed": true,
    "pycharm": {
     "is_executing": false
    }
   },
   "outputs": [
    {
     "data": {
      "text/plain": "array([1, 0, 1])"
     },
     "metadata": {},
     "output_type": "execute_result",
     "execution_count": 3
    }
   ],
   "source": [
    "\n",
    "import numpy as np\n",
    "\n",
    "def h1(X):\n",
    "    \"\"\"Classifies whether the second feature is greater or equal to first.\n",
    "\n",
    "    Input:\n",
    "         X: N,D design matrix of input features\n",
    "\n",
    "    Output:\n",
    "        yy: N, output 1 if second feature greater, 0 otherwise\n",
    "    \"\"\"\n",
    "    w11 = -1\n",
    "    w12 = 1\n",
    "    b1 = 0\n",
    "    ww1 = np.array([w11, w12])\n",
    "    # `aa` is a linear combination of the inputs\n",
    "    aa = X @ ww1 + b1\n",
    "    # `yy` is the output after hard thresholding\n",
    "    yy = aa >= 0\n",
    "    return yy.astype(int)\n",
    "\n",
    "X = np.array([[1,2],[2,1],[3,3]])\n",
    "h1(X)"
   ]
  },
  {
   "cell_type": "code",
   "execution_count": null,
   "outputs": [],
   "source": [
    "\n"
   ],
   "metadata": {
    "collapsed": false,
    "pycharm": {
     "name": "#%%\n"
    }
   }
  }
 ],
 "metadata": {
  "kernelspec": {
   "display_name": "Python 3",
   "language": "python",
   "name": "python3"
  },
  "language_info": {
   "codemirror_mode": {
    "name": "ipython",
    "version": 2
   },
   "file_extension": ".py",
   "mimetype": "text/x-python",
   "name": "python",
   "nbconvert_exporter": "python",
   "pygments_lexer": "ipython2",
   "version": "2.7.6"
  },
  "pycharm": {
   "stem_cell": {
    "cell_type": "raw",
    "source": [],
    "metadata": {
     "collapsed": false
    }
   }
  }
 },
 "nbformat": 4,
 "nbformat_minor": 0
}