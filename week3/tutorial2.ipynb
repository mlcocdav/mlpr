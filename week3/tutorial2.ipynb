{
 "cells": [
  {
   "cell_type": "code",
   "execution_count": 8,
   "metadata": {
    "collapsed": true
   },
   "outputs": [
    {
     "name": "stdout",
     "output_type": "stream",
     "text": [
      "Mean:  [ 9.99559811 39.97900375]\n",
      "Expected mean:  [10 40]\n",
      "Covariance: \n",
      " [[ 4.00436109 16.02122806]\n",
      " [16.02122806 73.09586562]]\n",
      "Expected covariance: \n",
      " [[ 4 16]\n",
      " [16 73]]\n"
     ]
    }
   ],
   "source": [
    "import numpy as np\n",
    "\n",
    "m = 10\n",
    "sigma = 2\n",
    "alpha = 4\n",
    "n = 3\n",
    "N = int(1e6)\n",
    "\n",
    "x1 = np.random.normal(loc=m, scale=sigma,size=(N))\n",
    "x2 = alpha *x1 + np.random.normal(loc=0, scale=n, size=(N))\n",
    "mean = np.mean(np.array([x1,x2]), axis=1)\n",
    "cov = np.cov(np.array([x1,x2]))\n",
    "\n",
    "meanexp = np.array([m, alpha * m])\n",
    "covexp = np.array([[sigma**2, alpha*sigma**2],[alpha*sigma**2, (alpha**2)*(sigma**2) + n**2]])\n",
    "print('Mean: ', mean)\n",
    "print('Expected mean: ' , meanexp)\n",
    "print('Covariance: \\n', cov)\n",
    "print('Expected covariance: \\n', covexp)"
   ]
  },
  {
   "cell_type": "code",
   "execution_count": 9,
   "outputs": [
    {
     "name": "stdout",
     "output_type": "stream",
     "text": [
      "[[ 9.99359703  9.9975992 ]\n",
      " [39.97045415 39.98755336]]\n"
     ]
    }
   ],
   "source": [
    "#Error bars\n",
    "err_bar = np.array([np.std(x1)/np.sqrt(N),np.std(x2)/np.sqrt(N)])\n",
    "mean_err = np.vstack([mean - err_bar, mean + err_bar]).T\n",
    "print(mean_err)\n",
    "coverr = np.array([np.mean(cov[0,0])])"
   ],
   "metadata": {
    "collapsed": false,
    "pycharm": {
     "name": "#%%\n"
    }
   }
  },
  {
   "cell_type": "code",
   "execution_count": null,
   "outputs": [],
   "source": [],
   "metadata": {
    "collapsed": false,
    "pycharm": {
     "name": "#%%\n"
    }
   }
  }
 ],
 "metadata": {
  "kernelspec": {
   "display_name": "Python 3",
   "language": "python",
   "name": "python3"
  },
  "language_info": {
   "codemirror_mode": {
    "name": "ipython",
    "version": 2
   },
   "file_extension": ".py",
   "mimetype": "text/x-python",
   "name": "python",
   "nbconvert_exporter": "python",
   "pygments_lexer": "ipython2",
   "version": "2.7.6"
  }
 },
 "nbformat": 4,
 "nbformat_minor": 0
}