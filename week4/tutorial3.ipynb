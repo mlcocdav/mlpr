{
 "cells": [
  {
   "cell_type": "code",
   "execution_count": 7,
   "metadata": {
    "collapsed": true
   },
   "outputs": [
    {
     "data": {
      "text/plain": "<Figure size 432x288 with 1 Axes>",
      "image/png": "[encoded data removed]"
     },
     "metadata": {
      "needs_background": "light"
     },
     "output_type": "display_data"
    },
    {
     "name": "stdout",
     "output_type": "stream",
     "text": [
      "0.6304909005914252\n"
     ]
    }
   ],
   "source": [
    "import numpy as np\n",
    "import matplotlib.pyplot as plt\n",
    "\n",
    "\n",
    "x1 = [0.5, 0.1, 0.2, 0.4, 0.3, 0.2, 0.2, 0.1, 0.35, 0.25]\n",
    "x2 = [0.9, 0.8, 0.75, 1.0]\n",
    "def normal_dist(x , mean , sd):\n",
    "    prob_density = (1/(np.sqrt(2*np.pi)*sd)) * np.exp(-0.5*((x-mean)/sd)**2)\n",
    "    return prob_density\n",
    "x_grid = np.arange(-0.5,1.2,0.01)\n",
    "x1_mean, x2_mean = np.mean(x1), np.mean(x2)\n",
    "x1_std, x2_std = np.std(x1), np.std(x2)\n",
    "p1 = len(x1) / (len(x1) + len(x2))\n",
    "p2 = len(x2) / (len(x1) + len(x2))\n",
    "s1 = [p1*normal_dist(x, x1_mean, x1_std) for x in x_grid]\n",
    "s2 = [p2*normal_dist(x, x2_mean, x2_std) for x in x_grid]\n",
    "py1 = [s1[i]/(s1[i]+s2[i]) for i in range(len(s1))]\n",
    "py2 = [s2[i]/(s1[i]+s2[i]) for i in range(len(s2))]\n",
    "plt.plot(x_grid, py1)\n",
    "plt.plot(x_grid, py2)\n",
    "plt.plot(x_grid, s1)\n",
    "plt.plot(x_grid, s2)\n",
    "plt.show()\n",
    "test_point = 0.6\n",
    "test_point_prob = p1*normal_dist(test_point, x1_mean, x1_std)/\\\n",
    "                  (p1*normal_dist(test_point, x1_mean, x1_std)+\n",
    "                   p2*normal_dist(test_point, x2_mean, x2_std))\n",
    "print(test_point_prob)"
   ]
  },
  {
   "cell_type": "code",
   "execution_count": 6,
   "outputs": [],
   "source": [
    "py2"
   ],
   "metadata": {
    "collapsed": false,
    "pycharm": {
     "name": "#%%\n"
    }
   }
  },
  {
   "cell_type": "code",
   "execution_count": 45,
   "outputs": [
    {
     "data": {
      "text/plain": "0.8807970779778823"
     },
     "execution_count": 45,
     "metadata": {},
     "output_type": "execute_result"
    }
   ],
   "source": [
    "def sigmoid(x):\n",
    "    return 1/(1+np.e**(-x))\n",
    "sigmoid(2)"
   ],
   "metadata": {
    "collapsed": false,
    "pycharm": {
     "name": "#%%\n"
    }
   }
  },
  {
   "cell_type": "code",
   "execution_count": 46,
   "outputs": [
    {
     "data": {
      "text/plain": "0.9820137900379085"
     },
     "execution_count": 46,
     "metadata": {},
     "output_type": "execute_result"
    }
   ],
   "source": [
    "sigmoid(4)\n"
   ],
   "metadata": {
    "collapsed": false,
    "pycharm": {
     "name": "#%%\n"
    }
   }
  },
  {
   "cell_type": "code",
   "execution_count": 123,
   "outputs": [
    {
     "data": {
      "text/plain": "array([[ 0.08318341, -0.0009373 , -0.00031447],\n       [-0.0009373 ,  0.08263367, -0.00085069],\n       [-0.00031447, -0.00085069,  0.08382313]])"
     },
     "execution_count": 123,
     "metadata": {},
     "output_type": "execute_result"
    }
   ],
   "source": [
    "X = np.random.rand(10000,3)\n",
    "np.cov(X, rowvar=False)"
   ],
   "metadata": {
    "collapsed": false,
    "pycharm": {
     "name": "#%%\n"
    }
   }
  },
  {
   "cell_type": "code",
   "execution_count": 124,
   "outputs": [
    {
     "data": {
      "text/plain": "array([[ 0.08317509, -0.0009372 , -0.00031444],\n       [-0.0009372 ,  0.08262541, -0.0008506 ],\n       [-0.00031444, -0.0008506 ,  0.08381475]])"
     },
     "execution_count": 124,
     "metadata": {},
     "output_type": "execute_result"
    }
   ],
   "source": [
    "Y = X - np.mean(X, 0)\n",
    "(Y.T @ Y)/ Y.shape[0]"
   ],
   "metadata": {
    "collapsed": false,
    "pycharm": {
     "name": "#%%\n"
    }
   }
  },
  {
   "cell_type": "code",
   "execution_count": 110,
   "outputs": [
    {
     "data": {
      "text/plain": "array([[3316.69500768, 2495.328578  , 2501.79476412],\n       [2495.328578  , 3320.90210916, 2490.51835763],\n       [2501.79476412, 2490.51835763, 3313.19111865]])"
     },
     "execution_count": 110,
     "metadata": {},
     "output_type": "execute_result"
    }
   ],
   "source": [
    "X.T  @ X\n"
   ],
   "metadata": {
    "collapsed": false,
    "pycharm": {
     "name": "#%%\n"
    }
   }
  },
  {
   "cell_type": "code",
   "execution_count": 125,
   "outputs": [
    {
     "data": {
      "text/plain": "array([0.49750283, 0.49592638, 0.4996179 ])"
     },
     "execution_count": 125,
     "metadata": {},
     "output_type": "execute_result"
    }
   ],
   "source": [
    "np.mean(X, 0)"
   ],
   "metadata": {
    "collapsed": false,
    "pycharm": {
     "name": "#%%\n"
    }
   }
  },
  {
   "cell_type": "code",
   "execution_count": null,
   "outputs": [],
   "source": [
    "np.mean(X.T  @ X, 0) # - np.mean(X, 1).T @ np.mean(X, 1)"
   ],
   "metadata": {
    "collapsed": false,
    "pycharm": {
     "name": "#%%\n"
    }
   }
  },
  {
   "cell_type": "code",
   "execution_count": null,
   "outputs": [],
   "source": [
    "np.mean(X  @ X.T, 1)"
   ],
   "metadata": {
    "collapsed": false,
    "pycharm": {
     "name": "#%%\n"
    }
   }
  },
  {
   "cell_type": "code",
   "execution_count": null,
   "outputs": [],
   "source": [],
   "metadata": {
    "collapsed": false,
    "pycharm": {
     "name": "#%%"
    }
   }
  }
 ],
 "metadata": {
  "kernelspec": {
   "display_name": "Python 3",
   "language": "python",
   "name": "python3"
  },
  "language_info": {
   "codemirror_mode": {
    "name": "ipython",
    "version": 2
   },
   "file_extension": ".py",
   "mimetype": "text/x-python",
   "name": "python",
   "nbconvert_exporter": "python",
   "pygments_lexer": "ipython2",
   "version": "2.7.6"
  }
 },
 "nbformat": 4,
 "nbformat_minor": 0
}