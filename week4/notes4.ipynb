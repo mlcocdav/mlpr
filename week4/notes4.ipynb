{
 "cells": [
  {
   "cell_type": "code",
   "execution_count": 1,
   "metadata": {
    "collapsed": true
   },
   "outputs": [
    {
     "name": "stdout",
     "output_type": "stream",
     "text": [
      "0.33383670995705633\n"
     ]
    }
   ],
   "source": [
    "from random import random\n",
    "from math import floor\n",
    "\n",
    "cards = [[1, 1],\n",
    "         [0, 0],\n",
    "         [1, 0]]\n",
    "num_cards = len(cards)\n",
    "\n",
    "N = 0 # Number of times first side is black\n",
    "kk = 0 # Out of those, how many times the other side is white\n",
    "\n",
    "for trial in range(int(1e6)):\n",
    "    card = floor(num_cards * random())\n",
    "    side = (random() < 0.5)\n",
    "    other_side = int(not side)\n",
    "    x1 = cards[card][side]\n",
    "    x2 = cards[card][other_side]\n",
    "    if x1 == 0:\n",
    "        N += 1 # just seen another black face\n",
    "        kk += (x2 == 1) # count if other side was white\n",
    "\n",
    "approx_probability = float(kk) / N\n",
    "print(approx_probability)"
   ]
  },
  {
   "cell_type": "code",
   "execution_count": null,
   "outputs": [],
   "source": [],
   "metadata": {
    "collapsed": false,
    "pycharm": {
     "name": "#%%\n"
    }
   }
  }
 ],
 "metadata": {
  "kernelspec": {
   "display_name": "Python 3",
   "language": "python",
   "name": "python3"
  },
  "language_info": {
   "codemirror_mode": {
    "name": "ipython",
    "version": 2
   },
   "file_extension": ".py",
   "mimetype": "text/x-python",
   "name": "python",
   "nbconvert_exporter": "python",
   "pygments_lexer": "ipython2",
   "version": "2.7.6"
  }
 },
 "nbformat": 4,
 "nbformat_minor": 0
}